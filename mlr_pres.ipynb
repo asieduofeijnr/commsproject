{
 "cells": [
  {
   "cell_type": "code",
   "execution_count": 1,
   "id": "67b38350",
   "metadata": {},
   "outputs": [],
   "source": [
    "import pandas as pd\n",
    "import numpy as np\n",
    "import statsmodels.formula.api as smf\n",
    "import statsmodels.api as sm\n",
    "import matplotlib.pyplot as plt\n",
    "import scipy\n",
    "from statsmodels.stats.diagnostic import het_breuschpagan\n",
    "from statsmodels.stats.diagnostic import het_white\n",
    "from statsmodels.stats.outliers_influence import variance_inflation_factor\n",
    "from patsy import dmatrices, dmatrix"
   ]
  },
  {
   "cell_type": "code",
   "execution_count": 2,
   "id": "c7074bea",
   "metadata": {},
   "outputs": [],
   "source": [
    "df = pd.read_csv('wo_men.csv')"
   ]
  },
  {
   "cell_type": "code",
   "execution_count": 5,
   "id": "224e27e1",
   "metadata": {},
   "outputs": [
    {
     "ename": "KeyError",
     "evalue": "('sex', 'height')",
     "output_type": "error",
     "traceback": [
      "\u001b[0;31m---------------------------------------------------------------------------\u001b[0m",
      "\u001b[0;31mKeyError\u001b[0m                                  Traceback (most recent call last)",
      "File \u001b[0;32m/opt/homebrew/anaconda3/envs/msds/lib/python3.11/site-packages/pandas/core/indexes/base.py:3802\u001b[0m, in \u001b[0;36mIndex.get_loc\u001b[0;34m(self, key, method, tolerance)\u001b[0m\n\u001b[1;32m   3801\u001b[0m \u001b[39mtry\u001b[39;00m:\n\u001b[0;32m-> 3802\u001b[0m     \u001b[39mreturn\u001b[39;00m \u001b[39mself\u001b[39;49m\u001b[39m.\u001b[39;49m_engine\u001b[39m.\u001b[39;49mget_loc(casted_key)\n\u001b[1;32m   3803\u001b[0m \u001b[39mexcept\u001b[39;00m \u001b[39mKeyError\u001b[39;00m \u001b[39mas\u001b[39;00m err:\n",
      "File \u001b[0;32m/opt/homebrew/anaconda3/envs/msds/lib/python3.11/site-packages/pandas/_libs/index.pyx:138\u001b[0m, in \u001b[0;36mpandas._libs.index.IndexEngine.get_loc\u001b[0;34m()\u001b[0m\n",
      "File \u001b[0;32m/opt/homebrew/anaconda3/envs/msds/lib/python3.11/site-packages/pandas/_libs/index.pyx:165\u001b[0m, in \u001b[0;36mpandas._libs.index.IndexEngine.get_loc\u001b[0;34m()\u001b[0m\n",
      "File \u001b[0;32mpandas/_libs/hashtable_class_helper.pxi:5745\u001b[0m, in \u001b[0;36mpandas._libs.hashtable.PyObjectHashTable.get_item\u001b[0;34m()\u001b[0m\n",
      "File \u001b[0;32mpandas/_libs/hashtable_class_helper.pxi:5753\u001b[0m, in \u001b[0;36mpandas._libs.hashtable.PyObjectHashTable.get_item\u001b[0;34m()\u001b[0m\n",
      "\u001b[0;31mKeyError\u001b[0m: ('sex', 'height')",
      "\nThe above exception was the direct cause of the following exception:\n",
      "\u001b[0;31mKeyError\u001b[0m                                  Traceback (most recent call last)",
      "\u001b[1;32m/Users/solomon/Library/CloudStorage/GoogleDrive-asieduofeijnr@gmail.com/My Drive/MSDS USF/Communication/Project/mlr_pres.ipynb Cell 3\u001b[0m line \u001b[0;36m1\n\u001b[0;32m----> <a href='vscode-notebook-cell:/Users/solomon/Library/CloudStorage/GoogleDrive-asieduofeijnr%40gmail.com/My%20Drive/MSDS%20USF/Communication/Project/mlr_pres.ipynb#W2sZmlsZQ%3D%3D?line=0'>1</a>\u001b[0m df[\u001b[39m'\u001b[39;49m\u001b[39msex\u001b[39;49m\u001b[39m'\u001b[39;49m,\u001b[39m'\u001b[39;49m\u001b[39mheight\u001b[39;49m\u001b[39m'\u001b[39;49m]\n",
      "File \u001b[0;32m/opt/homebrew/anaconda3/envs/msds/lib/python3.11/site-packages/pandas/core/frame.py:3807\u001b[0m, in \u001b[0;36mDataFrame.__getitem__\u001b[0;34m(self, key)\u001b[0m\n\u001b[1;32m   3805\u001b[0m \u001b[39mif\u001b[39;00m \u001b[39mself\u001b[39m\u001b[39m.\u001b[39mcolumns\u001b[39m.\u001b[39mnlevels \u001b[39m>\u001b[39m \u001b[39m1\u001b[39m:\n\u001b[1;32m   3806\u001b[0m     \u001b[39mreturn\u001b[39;00m \u001b[39mself\u001b[39m\u001b[39m.\u001b[39m_getitem_multilevel(key)\n\u001b[0;32m-> 3807\u001b[0m indexer \u001b[39m=\u001b[39m \u001b[39mself\u001b[39;49m\u001b[39m.\u001b[39;49mcolumns\u001b[39m.\u001b[39;49mget_loc(key)\n\u001b[1;32m   3808\u001b[0m \u001b[39mif\u001b[39;00m is_integer(indexer):\n\u001b[1;32m   3809\u001b[0m     indexer \u001b[39m=\u001b[39m [indexer]\n",
      "File \u001b[0;32m/opt/homebrew/anaconda3/envs/msds/lib/python3.11/site-packages/pandas/core/indexes/base.py:3804\u001b[0m, in \u001b[0;36mIndex.get_loc\u001b[0;34m(self, key, method, tolerance)\u001b[0m\n\u001b[1;32m   3802\u001b[0m     \u001b[39mreturn\u001b[39;00m \u001b[39mself\u001b[39m\u001b[39m.\u001b[39m_engine\u001b[39m.\u001b[39mget_loc(casted_key)\n\u001b[1;32m   3803\u001b[0m \u001b[39mexcept\u001b[39;00m \u001b[39mKeyError\u001b[39;00m \u001b[39mas\u001b[39;00m err:\n\u001b[0;32m-> 3804\u001b[0m     \u001b[39mraise\u001b[39;00m \u001b[39mKeyError\u001b[39;00m(key) \u001b[39mfrom\u001b[39;00m \u001b[39merr\u001b[39;00m\n\u001b[1;32m   3805\u001b[0m \u001b[39mexcept\u001b[39;00m \u001b[39mTypeError\u001b[39;00m:\n\u001b[1;32m   3806\u001b[0m     \u001b[39m# If we have a listlike key, _check_indexing_error will raise\u001b[39;00m\n\u001b[1;32m   3807\u001b[0m     \u001b[39m#  InvalidIndexError. Otherwise we fall through and re-raise\u001b[39;00m\n\u001b[1;32m   3808\u001b[0m     \u001b[39m#  the TypeError.\u001b[39;00m\n\u001b[1;32m   3809\u001b[0m     \u001b[39mself\u001b[39m\u001b[39m.\u001b[39m_check_indexing_error(key)\n",
      "\u001b[0;31mKeyError\u001b[0m: ('sex', 'height')"
     ]
    }
   ],
   "source": [
    "df['sex','height']"
   ]
  },
  {
   "cell_type": "code",
   "execution_count": null,
   "id": "f498d50d",
   "metadata": {},
   "outputs": [
    {
     "name": "stdout",
     "output_type": "stream",
     "text": [
      "   VIF Factor   features\n",
      "0   77.304599  Intercept\n"
     ]
    }
   ],
   "source": [
    "y, X = dmatrices('height ~ shoe_size + sex', data=df, return_type='dataframe')\n",
    "\n",
    "vif = pd.DataFrame()\n",
    "vif[\"VIF Factor\"] = [variance_inflation_factor(X.values, i) for i in range(X.shape[1])]\n",
    "vif[\"features\"] = X.columns\n",
    "print(vif[vif['VIF Factor'] > 10])"
   ]
  },
  {
   "cell_type": "code",
   "execution_count": null,
   "id": "acd08486",
   "metadata": {},
   "outputs": [
    {
     "data": {
      "text/html": [
       "<table class=\"simpletable\">\n",
       "<caption>OLS Regression Results</caption>\n",
       "<tr>\n",
       "  <th>Dep. Variable:</th>         <td>height</td>      <th>  R-squared:         </th> <td>   0.307</td>\n",
       "</tr>\n",
       "<tr>\n",
       "  <th>Model:</th>                   <td>OLS</td>       <th>  Adj. R-squared:    </th> <td>   0.292</td>\n",
       "</tr>\n",
       "<tr>\n",
       "  <th>Method:</th>             <td>Least Squares</td>  <th>  F-statistic:       </th> <td>   21.46</td>\n",
       "</tr>\n",
       "<tr>\n",
       "  <th>Date:</th>             <td>Wed, 11 Oct 2023</td> <th>  Prob (F-statistic):</th> <td>1.92e-08</td>\n",
       "</tr>\n",
       "<tr>\n",
       "  <th>Time:</th>                 <td>15:03:24</td>     <th>  Log-Likelihood:    </th> <td> -491.51</td>\n",
       "</tr>\n",
       "<tr>\n",
       "  <th>No. Observations:</th>      <td>   100</td>      <th>  AIC:               </th> <td>   989.0</td>\n",
       "</tr>\n",
       "<tr>\n",
       "  <th>Df Residuals:</th>          <td>    97</td>      <th>  BIC:               </th> <td>   996.8</td>\n",
       "</tr>\n",
       "<tr>\n",
       "  <th>Df Model:</th>              <td>     2</td>      <th>                     </th>     <td> </td>   \n",
       "</tr>\n",
       "<tr>\n",
       "  <th>Covariance Type:</th>      <td>nonrobust</td>    <th>                     </th>     <td> </td>   \n",
       "</tr>\n",
       "</table>\n",
       "<table class=\"simpletable\">\n",
       "<tr>\n",
       "        <td></td>          <th>coef</th>     <th>std err</th>      <th>t</th>      <th>P>|t|</th>  <th>[0.025</th>    <th>0.975]</th>  \n",
       "</tr>\n",
       "<tr>\n",
       "  <th>Intercept</th>    <td>   11.3339</td> <td>   29.449</td> <td>    0.385</td> <td> 0.701</td> <td>  -47.113</td> <td>   69.781</td>\n",
       "</tr>\n",
       "<tr>\n",
       "  <th>sex[T.woman]</th> <td>   -2.1658</td> <td>    9.302</td> <td>   -0.233</td> <td> 0.816</td> <td>  -20.627</td> <td>   16.296</td>\n",
       "</tr>\n",
       "<tr>\n",
       "  <th>shoe_size</th>    <td>    3.9139</td> <td>    0.646</td> <td>    6.055</td> <td> 0.000</td> <td>    2.631</td> <td>    5.197</td>\n",
       "</tr>\n",
       "</table>\n",
       "<table class=\"simpletable\">\n",
       "<tr>\n",
       "  <th>Omnibus:</th>       <td>123.462</td> <th>  Durbin-Watson:     </th> <td>   2.152</td>\n",
       "</tr>\n",
       "<tr>\n",
       "  <th>Prob(Omnibus):</th> <td> 0.000</td>  <th>  Jarque-Bera (JB):  </th> <td>1805.948</td>\n",
       "</tr>\n",
       "<tr>\n",
       "  <th>Skew:</th>          <td>-4.478</td>  <th>  Prob(JB):          </th> <td>    0.00</td>\n",
       "</tr>\n",
       "<tr>\n",
       "  <th>Kurtosis:</th>      <td>21.794</td>  <th>  Cond. No.          </th> <td>    359.</td>\n",
       "</tr>\n",
       "</table><br/><br/>Notes:<br/>[1] Standard Errors assume that the covariance matrix of the errors is correctly specified."
      ],
      "text/latex": [
       "\\begin{center}\n",
       "\\begin{tabular}{lclc}\n",
       "\\toprule\n",
       "\\textbf{Dep. Variable:}    &      height      & \\textbf{  R-squared:         } &     0.307   \\\\\n",
       "\\textbf{Model:}            &       OLS        & \\textbf{  Adj. R-squared:    } &     0.292   \\\\\n",
       "\\textbf{Method:}           &  Least Squares   & \\textbf{  F-statistic:       } &     21.46   \\\\\n",
       "\\textbf{Date:}             & Wed, 11 Oct 2023 & \\textbf{  Prob (F-statistic):} &  1.92e-08   \\\\\n",
       "\\textbf{Time:}             &     15:03:24     & \\textbf{  Log-Likelihood:    } &   -491.51   \\\\\n",
       "\\textbf{No. Observations:} &         100      & \\textbf{  AIC:               } &     989.0   \\\\\n",
       "\\textbf{Df Residuals:}     &          97      & \\textbf{  BIC:               } &     996.8   \\\\\n",
       "\\textbf{Df Model:}         &           2      & \\textbf{                     } &             \\\\\n",
       "\\textbf{Covariance Type:}  &    nonrobust     & \\textbf{                     } &             \\\\\n",
       "\\bottomrule\n",
       "\\end{tabular}\n",
       "\\begin{tabular}{lcccccc}\n",
       "                      & \\textbf{coef} & \\textbf{std err} & \\textbf{t} & \\textbf{P$> |$t$|$} & \\textbf{[0.025} & \\textbf{0.975]}  \\\\\n",
       "\\midrule\n",
       "\\textbf{Intercept}    &      11.3339  &       29.449     &     0.385  &         0.701        &      -47.113    &       69.781     \\\\\n",
       "\\textbf{sex[T.woman]} &      -2.1658  &        9.302     &    -0.233  &         0.816        &      -20.627    &       16.296     \\\\\n",
       "\\textbf{shoe\\_size}   &       3.9139  &        0.646     &     6.055  &         0.000        &        2.631    &        5.197     \\\\\n",
       "\\bottomrule\n",
       "\\end{tabular}\n",
       "\\begin{tabular}{lclc}\n",
       "\\textbf{Omnibus:}       & 123.462 & \\textbf{  Durbin-Watson:     } &    2.152  \\\\\n",
       "\\textbf{Prob(Omnibus):} &   0.000 & \\textbf{  Jarque-Bera (JB):  } & 1805.948  \\\\\n",
       "\\textbf{Skew:}          &  -4.478 & \\textbf{  Prob(JB):          } &     0.00  \\\\\n",
       "\\textbf{Kurtosis:}      &  21.794 & \\textbf{  Cond. No.          } &     359.  \\\\\n",
       "\\bottomrule\n",
       "\\end{tabular}\n",
       "%\\caption{OLS Regression Results}\n",
       "\\end{center}\n",
       "\n",
       "Notes: \\newline\n",
       " [1] Standard Errors assume that the covariance matrix of the errors is correctly specified."
      ],
      "text/plain": [
       "<class 'statsmodels.iolib.summary.Summary'>\n",
       "\"\"\"\n",
       "                            OLS Regression Results                            \n",
       "==============================================================================\n",
       "Dep. Variable:                 height   R-squared:                       0.307\n",
       "Model:                            OLS   Adj. R-squared:                  0.292\n",
       "Method:                 Least Squares   F-statistic:                     21.46\n",
       "Date:                Wed, 11 Oct 2023   Prob (F-statistic):           1.92e-08\n",
       "Time:                        15:03:24   Log-Likelihood:                -491.51\n",
       "No. Observations:                 100   AIC:                             989.0\n",
       "Df Residuals:                      97   BIC:                             996.8\n",
       "Df Model:                           2                                         \n",
       "Covariance Type:            nonrobust                                         \n",
       "================================================================================\n",
       "                   coef    std err          t      P>|t|      [0.025      0.975]\n",
       "--------------------------------------------------------------------------------\n",
       "Intercept       11.3339     29.449      0.385      0.701     -47.113      69.781\n",
       "sex[T.woman]    -2.1658      9.302     -0.233      0.816     -20.627      16.296\n",
       "shoe_size        3.9139      0.646      6.055      0.000       2.631       5.197\n",
       "==============================================================================\n",
       "Omnibus:                      123.462   Durbin-Watson:                   2.152\n",
       "Prob(Omnibus):                  0.000   Jarque-Bera (JB):             1805.948\n",
       "Skew:                          -4.478   Prob(JB):                         0.00\n",
       "Kurtosis:                      21.794   Cond. No.                         359.\n",
       "==============================================================================\n",
       "\n",
       "Notes:\n",
       "[1] Standard Errors assume that the covariance matrix of the errors is correctly specified.\n",
       "\"\"\""
      ]
     },
     "execution_count": 33,
     "metadata": {},
     "output_type": "execute_result"
    }
   ],
   "source": [
    "model = smf.ols('height ~ shoe_size + sex',df).fit()\n",
    "model.summary()"
   ]
  },
  {
   "cell_type": "code",
   "execution_count": null,
   "id": "72a877ef",
   "metadata": {},
   "outputs": [
    {
     "data": {
      "text/plain": [
       "Text(0.5, 1.0, 'Fitted Values vs. Residuals')"
      ]
     },
     "execution_count": 34,
     "metadata": {},
     "output_type": "execute_result"
    },
    {
     "data": {
      "image/png": "[encoded data removed]",
      "text/plain": [
       "<Figure size 640x480 with 1 Axes>"
      ]
     },
     "metadata": {},
     "output_type": "display_data"
    }
   ],
   "source": [
    "p = model.fittedvalues\n",
    "res = model.resid\n",
    "plt.scatter(p,res)\n",
    "plt.xlabel(\"Fitted Values\")\n",
    "plt.ylabel(\"Residual\")\n",
    "plt.title(\"Fitted Values vs. Residuals\")"
   ]
  },
  {
   "cell_type": "code",
   "execution_count": null,
   "id": "24ee2fc1",
   "metadata": {},
   "outputs": [],
   "source": [
    "infl = model.get_influence()\n",
    "n = len(df)\n",
    "p = model.df_model + 1"
   ]
  },
  {
   "cell_type": "code",
   "execution_count": null,
   "id": "41883461",
   "metadata": {},
   "outputs": [],
   "source": [
    "inflsum=infl.summary_frame()\n",
    "reg_cook=inflsum.cooks_d\n",
    "\n",
    "atyp_cook = np.abs(reg_cook) >= 4/n"
   ]
  },
  {
   "cell_type": "code",
   "execution_count": null,
   "id": "6d42b03e",
   "metadata": {},
   "outputs": [
    {
     "name": "stdout",
     "output_type": "stream",
     "text": [
      "Int64Index([47, 61, 67, 77, 80], dtype='int64')\n"
     ]
    }
   ],
   "source": [
    "print(df.index[:-1][atyp_cook])"
   ]
  },
  {
   "cell_type": "code",
   "execution_count": null,
   "id": "6e423c0b",
   "metadata": {},
   "outputs": [],
   "source": [
    "df_trim = df.drop(df.index[:-1][atyp_cook])"
   ]
  },
  {
   "cell_type": "code",
   "execution_count": null,
   "id": "fd9a0650",
   "metadata": {},
   "outputs": [
    {
     "data": {
      "text/html": [
       "<div>\n",
       "<style scoped>\n",
       "    .dataframe tbody tr th:only-of-type {\n",
       "        vertical-align: middle;\n",
       "    }\n",
       "\n",
       "    .dataframe tbody tr th {\n",
       "        vertical-align: top;\n",
       "    }\n",
       "\n",
       "    .dataframe thead th {\n",
       "        text-align: right;\n",
       "    }\n",
       "</style>\n",
       "<table border=\"1\" class=\"dataframe\">\n",
       "  <thead>\n",
       "    <tr style=\"text-align: right;\">\n",
       "      <th></th>\n",
       "      <th>time</th>\n",
       "      <th>sex</th>\n",
       "      <th>height</th>\n",
       "      <th>shoe_size</th>\n",
       "    </tr>\n",
       "  </thead>\n",
       "  <tbody>\n",
       "    <tr>\n",
       "      <th>0</th>\n",
       "      <td>04.10.2016 17:58:51</td>\n",
       "      <td>woman</td>\n",
       "      <td>160.0</td>\n",
       "      <td>40.0</td>\n",
       "    </tr>\n",
       "    <tr>\n",
       "      <th>1</th>\n",
       "      <td>04.10.2016 17:58:59</td>\n",
       "      <td>woman</td>\n",
       "      <td>171.0</td>\n",
       "      <td>39.0</td>\n",
       "    </tr>\n",
       "    <tr>\n",
       "      <th>2</th>\n",
       "      <td>04.10.2016 18:00:15</td>\n",
       "      <td>woman</td>\n",
       "      <td>174.0</td>\n",
       "      <td>39.0</td>\n",
       "    </tr>\n",
       "    <tr>\n",
       "      <th>3</th>\n",
       "      <td>04.10.2016 18:01:17</td>\n",
       "      <td>woman</td>\n",
       "      <td>176.0</td>\n",
       "      <td>40.0</td>\n",
       "    </tr>\n",
       "    <tr>\n",
       "      <th>4</th>\n",
       "      <td>04.10.2016 18:01:22</td>\n",
       "      <td>man</td>\n",
       "      <td>195.0</td>\n",
       "      <td>46.0</td>\n",
       "    </tr>\n",
       "    <tr>\n",
       "      <th>...</th>\n",
       "      <td>...</td>\n",
       "      <td>...</td>\n",
       "      <td>...</td>\n",
       "      <td>...</td>\n",
       "    </tr>\n",
       "    <tr>\n",
       "      <th>96</th>\n",
       "      <td>17.10.2016 12:37:09</td>\n",
       "      <td>woman</td>\n",
       "      <td>170.0</td>\n",
       "      <td>39.0</td>\n",
       "    </tr>\n",
       "    <tr>\n",
       "      <th>97</th>\n",
       "      <td>17.10.2016 13:12:48</td>\n",
       "      <td>woman</td>\n",
       "      <td>183.0</td>\n",
       "      <td>39.0</td>\n",
       "    </tr>\n",
       "    <tr>\n",
       "      <th>98</th>\n",
       "      <td>19.10.2016 17:07:53</td>\n",
       "      <td>woman</td>\n",
       "      <td>173.0</td>\n",
       "      <td>40.0</td>\n",
       "    </tr>\n",
       "    <tr>\n",
       "      <th>99</th>\n",
       "      <td>29.10.2016 20:28:33</td>\n",
       "      <td>woman</td>\n",
       "      <td>160.0</td>\n",
       "      <td>37.0</td>\n",
       "    </tr>\n",
       "    <tr>\n",
       "      <th>100</th>\n",
       "      <td>30.10.2016 11:57:57</td>\n",
       "      <td>woman</td>\n",
       "      <td>168.0</td>\n",
       "      <td>39.0</td>\n",
       "    </tr>\n",
       "  </tbody>\n",
       "</table>\n",
       "<p>96 rows × 4 columns</p>\n",
       "</div>"
      ],
      "text/plain": [
       "                    time    sex  height  shoe_size\n",
       "0    04.10.2016 17:58:51  woman   160.0       40.0\n",
       "1    04.10.2016 17:58:59  woman   171.0       39.0\n",
       "2    04.10.2016 18:00:15  woman   174.0       39.0\n",
       "3    04.10.2016 18:01:17  woman   176.0       40.0\n",
       "4    04.10.2016 18:01:22    man   195.0       46.0\n",
       "..                   ...    ...     ...        ...\n",
       "96   17.10.2016 12:37:09  woman   170.0       39.0\n",
       "97   17.10.2016 13:12:48  woman   183.0       39.0\n",
       "98   19.10.2016 17:07:53  woman   173.0       40.0\n",
       "99   29.10.2016 20:28:33  woman   160.0       37.0\n",
       "100  30.10.2016 11:57:57  woman   168.0       39.0\n",
       "\n",
       "[96 rows x 4 columns]"
      ]
     },
     "execution_count": 61,
     "metadata": {},
     "output_type": "execute_result"
    }
   ],
   "source": [
    "df_trim"
   ]
  },
  {
   "cell_type": "code",
   "execution_count": null,
   "id": "ffa9742f",
   "metadata": {},
   "outputs": [
    {
     "data": {
      "text/html": [
       "<table class=\"simpletable\">\n",
       "<caption>OLS Regression Results</caption>\n",
       "<tr>\n",
       "  <th>Dep. Variable:</th>         <td>height</td>      <th>  R-squared:         </th> <td>   0.744</td>\n",
       "</tr>\n",
       "<tr>\n",
       "  <th>Model:</th>                   <td>OLS</td>       <th>  Adj. R-squared:    </th> <td>   0.738</td>\n",
       "</tr>\n",
       "<tr>\n",
       "  <th>Method:</th>             <td>Least Squares</td>  <th>  F-statistic:       </th> <td>   133.6</td>\n",
       "</tr>\n",
       "<tr>\n",
       "  <th>Date:</th>             <td>Wed, 11 Oct 2023</td> <th>  Prob (F-statistic):</th> <td>6.14e-28</td>\n",
       "</tr>\n",
       "<tr>\n",
       "  <th>Time:</th>                 <td>15:10:56</td>     <th>  Log-Likelihood:    </th> <td> -282.55</td>\n",
       "</tr>\n",
       "<tr>\n",
       "  <th>No. Observations:</th>      <td>    95</td>      <th>  AIC:               </th> <td>   571.1</td>\n",
       "</tr>\n",
       "<tr>\n",
       "  <th>Df Residuals:</th>          <td>    92</td>      <th>  BIC:               </th> <td>   578.8</td>\n",
       "</tr>\n",
       "<tr>\n",
       "  <th>Df Model:</th>              <td>     2</td>      <th>                     </th>     <td> </td>   \n",
       "</tr>\n",
       "<tr>\n",
       "  <th>Covariance Type:</th>      <td>nonrobust</td>    <th>                     </th>     <td> </td>   \n",
       "</tr>\n",
       "</table>\n",
       "<table class=\"simpletable\">\n",
       "<tr>\n",
       "        <td></td>          <th>coef</th>     <th>std err</th>      <th>t</th>      <th>P>|t|</th>  <th>[0.025</th>    <th>0.975]</th>  \n",
       "</tr>\n",
       "<tr>\n",
       "  <th>Intercept</th>    <td>   42.7874</td> <td>   13.868</td> <td>    3.085</td> <td> 0.003</td> <td>   15.245</td> <td>   70.330</td>\n",
       "</tr>\n",
       "<tr>\n",
       "  <th>sex[T.woman]</th> <td>    1.9165</td> <td>    2.180</td> <td>    0.879</td> <td> 0.382</td> <td>   -2.413</td> <td>    6.246</td>\n",
       "</tr>\n",
       "<tr>\n",
       "  <th>shoe_size</th>    <td>    3.1972</td> <td>    0.315</td> <td>   10.153</td> <td> 0.000</td> <td>    2.572</td> <td>    3.823</td>\n",
       "</tr>\n",
       "</table>\n",
       "<table class=\"simpletable\">\n",
       "<tr>\n",
       "  <th>Omnibus:</th>       <td> 1.421</td> <th>  Durbin-Watson:     </th> <td>   1.329</td>\n",
       "</tr>\n",
       "<tr>\n",
       "  <th>Prob(Omnibus):</th> <td> 0.491</td> <th>  Jarque-Bera (JB):  </th> <td>   0.883</td>\n",
       "</tr>\n",
       "<tr>\n",
       "  <th>Skew:</th>          <td> 0.077</td> <th>  Prob(JB):          </th> <td>   0.643</td>\n",
       "</tr>\n",
       "<tr>\n",
       "  <th>Kurtosis:</th>      <td> 3.447</td> <th>  Cond. No.          </th> <td>1.12e+03</td>\n",
       "</tr>\n",
       "</table><br/><br/>Notes:<br/>[1] Standard Errors assume that the covariance matrix of the errors is correctly specified.<br/>[2] The condition number is large, 1.12e+03. This might indicate that there are<br/>strong multicollinearity or other numerical problems."
      ],
      "text/latex": [
       "\\begin{center}\n",
       "\\begin{tabular}{lclc}\n",
       "\\toprule\n",
       "\\textbf{Dep. Variable:}    &      height      & \\textbf{  R-squared:         } &     0.744   \\\\\n",
       "\\textbf{Model:}            &       OLS        & \\textbf{  Adj. R-squared:    } &     0.738   \\\\\n",
       "\\textbf{Method:}           &  Least Squares   & \\textbf{  F-statistic:       } &     133.6   \\\\\n",
       "\\textbf{Date:}             & Wed, 11 Oct 2023 & \\textbf{  Prob (F-statistic):} &  6.14e-28   \\\\\n",
       "\\textbf{Time:}             &     15:10:56     & \\textbf{  Log-Likelihood:    } &   -282.55   \\\\\n",
       "\\textbf{No. Observations:} &          95      & \\textbf{  AIC:               } &     571.1   \\\\\n",
       "\\textbf{Df Residuals:}     &          92      & \\textbf{  BIC:               } &     578.8   \\\\\n",
       "\\textbf{Df Model:}         &           2      & \\textbf{                     } &             \\\\\n",
       "\\textbf{Covariance Type:}  &    nonrobust     & \\textbf{                     } &             \\\\\n",
       "\\bottomrule\n",
       "\\end{tabular}\n",
       "\\begin{tabular}{lcccccc}\n",
       "                      & \\textbf{coef} & \\textbf{std err} & \\textbf{t} & \\textbf{P$> |$t$|$} & \\textbf{[0.025} & \\textbf{0.975]}  \\\\\n",
       "\\midrule\n",
       "\\textbf{Intercept}    &      42.7874  &       13.868     &     3.085  &         0.003        &       15.245    &       70.330     \\\\\n",
       "\\textbf{sex[T.woman]} &       1.9165  &        2.180     &     0.879  &         0.382        &       -2.413    &        6.246     \\\\\n",
       "\\textbf{shoe\\_size}   &       3.1972  &        0.315     &    10.153  &         0.000        &        2.572    &        3.823     \\\\\n",
       "\\bottomrule\n",
       "\\end{tabular}\n",
       "\\begin{tabular}{lclc}\n",
       "\\textbf{Omnibus:}       &  1.421 & \\textbf{  Durbin-Watson:     } &    1.329  \\\\\n",
       "\\textbf{Prob(Omnibus):} &  0.491 & \\textbf{  Jarque-Bera (JB):  } &    0.883  \\\\\n",
       "\\textbf{Skew:}          &  0.077 & \\textbf{  Prob(JB):          } &    0.643  \\\\\n",
       "\\textbf{Kurtosis:}      &  3.447 & \\textbf{  Cond. No.          } & 1.12e+03  \\\\\n",
       "\\bottomrule\n",
       "\\end{tabular}\n",
       "%\\caption{OLS Regression Results}\n",
       "\\end{center}\n",
       "\n",
       "Notes: \\newline\n",
       " [1] Standard Errors assume that the covariance matrix of the errors is correctly specified. \\newline\n",
       " [2] The condition number is large, 1.12e+03. This might indicate that there are \\newline\n",
       " strong multicollinearity or other numerical problems."
      ],
      "text/plain": [
       "<class 'statsmodels.iolib.summary.Summary'>\n",
       "\"\"\"\n",
       "                            OLS Regression Results                            \n",
       "==============================================================================\n",
       "Dep. Variable:                 height   R-squared:                       0.744\n",
       "Model:                            OLS   Adj. R-squared:                  0.738\n",
       "Method:                 Least Squares   F-statistic:                     133.6\n",
       "Date:                Wed, 11 Oct 2023   Prob (F-statistic):           6.14e-28\n",
       "Time:                        15:10:56   Log-Likelihood:                -282.55\n",
       "No. Observations:                  95   AIC:                             571.1\n",
       "Df Residuals:                      92   BIC:                             578.8\n",
       "Df Model:                           2                                         \n",
       "Covariance Type:            nonrobust                                         \n",
       "================================================================================\n",
       "                   coef    std err          t      P>|t|      [0.025      0.975]\n",
       "--------------------------------------------------------------------------------\n",
       "Intercept       42.7874     13.868      3.085      0.003      15.245      70.330\n",
       "sex[T.woman]     1.9165      2.180      0.879      0.382      -2.413       6.246\n",
       "shoe_size        3.1972      0.315     10.153      0.000       2.572       3.823\n",
       "==============================================================================\n",
       "Omnibus:                        1.421   Durbin-Watson:                   1.329\n",
       "Prob(Omnibus):                  0.491   Jarque-Bera (JB):                0.883\n",
       "Skew:                           0.077   Prob(JB):                        0.643\n",
       "Kurtosis:                       3.447   Cond. No.                     1.12e+03\n",
       "==============================================================================\n",
       "\n",
       "Notes:\n",
       "[1] Standard Errors assume that the covariance matrix of the errors is correctly specified.\n",
       "[2] The condition number is large, 1.12e+03. This might indicate that there are\n",
       "strong multicollinearity or other numerical problems.\n",
       "\"\"\""
      ]
     },
     "execution_count": 62,
     "metadata": {},
     "output_type": "execute_result"
    }
   ],
   "source": [
    "model_t = smf.ols('height ~ shoe_size + sex',df_trim).fit()\n",
    "model_t.summary()"
   ]
  },
  {
   "cell_type": "code",
   "execution_count": null,
   "id": "db379044",
   "metadata": {},
   "outputs": [
    {
     "data": {
      "text/plain": [
       "Text(0.5, 1.0, 'Fitted Values vs. Residuals')"
      ]
     },
     "execution_count": 63,
     "metadata": {},
     "output_type": "execute_result"
    },
    {
     "data": {
      "image/png": "[encoded data removed]",
      "text/plain": [
       "<Figure size 640x480 with 1 Axes>"
      ]
     },
     "metadata": {},
     "output_type": "display_data"
    }
   ],
   "source": [
    "p = model_t.fittedvalues\n",
    "res = model_t.resid\n",
    "plt.scatter(p,res)\n",
    "plt.xlabel(\"Fitted Values\")\n",
    "plt.ylabel(\"Residual\")\n",
    "plt.title(\"Fitted Values vs. Residuals\")"
   ]
  },
  {
   "cell_type": "code",
   "execution_count": null,
   "id": "73447a2c",
   "metadata": {},
   "outputs": [
    {
     "data": {
      "text/html": [
       "<div>\n",
       "<style scoped>\n",
       "    .dataframe tbody tr th:only-of-type {\n",
       "        vertical-align: middle;\n",
       "    }\n",
       "\n",
       "    .dataframe tbody tr th {\n",
       "        vertical-align: top;\n",
       "    }\n",
       "\n",
       "    .dataframe thead th {\n",
       "        text-align: right;\n",
       "    }\n",
       "</style>\n",
       "<table border=\"1\" class=\"dataframe\">\n",
       "  <thead>\n",
       "    <tr style=\"text-align: right;\">\n",
       "      <th></th>\n",
       "      <th>sex</th>\n",
       "      <th>shoe_size</th>\n",
       "    </tr>\n",
       "  </thead>\n",
       "  <tbody>\n",
       "    <tr>\n",
       "      <th>0</th>\n",
       "      <td>man</td>\n",
       "      <td>42.0</td>\n",
       "    </tr>\n",
       "  </tbody>\n",
       "</table>\n",
       "</div>"
      ],
      "text/plain": [
       "   sex  shoe_size\n",
       "0  man       42.0"
      ]
     },
     "execution_count": 77,
     "metadata": {},
     "output_type": "execute_result"
    }
   ],
   "source": [
    "df_p = pd.DataFrame({'sex':['man'], 'shoe_size':[42.0]})\n",
    "df_p"
   ]
  },
  {
   "cell_type": "code",
   "execution_count": null,
   "id": "3be2f360",
   "metadata": {},
   "outputs": [
    {
     "data": {
      "text/html": [
       "<div>\n",
       "<style scoped>\n",
       "    .dataframe tbody tr th:only-of-type {\n",
       "        vertical-align: middle;\n",
       "    }\n",
       "\n",
       "    .dataframe tbody tr th {\n",
       "        vertical-align: top;\n",
       "    }\n",
       "\n",
       "    .dataframe thead th {\n",
       "        text-align: right;\n",
       "    }\n",
       "</style>\n",
       "<table border=\"1\" class=\"dataframe\">\n",
       "  <thead>\n",
       "    <tr style=\"text-align: right;\">\n",
       "      <th></th>\n",
       "      <th>mean</th>\n",
       "      <th>mean_se</th>\n",
       "      <th>mean_ci_lower</th>\n",
       "      <th>mean_ci_upper</th>\n",
       "      <th>obs_ci_lower</th>\n",
       "      <th>obs_ci_upper</th>\n",
       "    </tr>\n",
       "  </thead>\n",
       "  <tbody>\n",
       "    <tr>\n",
       "      <th>0</th>\n",
       "      <td>177.071863</td>\n",
       "      <td>1.280927</td>\n",
       "      <td>174.527833</td>\n",
       "      <td>179.615894</td>\n",
       "      <td>167.180108</td>\n",
       "      <td>186.963619</td>\n",
       "    </tr>\n",
       "  </tbody>\n",
       "</table>\n",
       "</div>"
      ],
      "text/plain": [
       "         mean   mean_se  mean_ci_lower  mean_ci_upper  obs_ci_lower  \\\n",
       "0  177.071863  1.280927     174.527833     179.615894    167.180108   \n",
       "\n",
       "   obs_ci_upper  \n",
       "0    186.963619  "
      ]
     },
     "execution_count": 78,
     "metadata": {},
     "output_type": "execute_result"
    }
   ],
   "source": [
    "predictions = model_t.get_prediction(df_p)\n",
    "predictions.summary_frame(alpha=0.05)"
   ]
  },
  {
   "cell_type": "code",
   "execution_count": null,
   "id": "e572b7a8",
   "metadata": {},
   "outputs": [],
   "source": []
  }
 ],
 "metadata": {
  "kernelspec": {
   "display_name": "Python 3 (ipykernel)",
   "language": "python",
   "name": "python3"
  },
  "language_info": {
   "codemirror_mode": {
    "name": "ipython",
    "version": 3
   },
   "file_extension": ".py",
   "mimetype": "text/x-python",
   "name": "python",
   "nbconvert_exporter": "python",
   "pygments_lexer": "ipython3",
   "version": "3.11.4"
  }
 },
 "nbformat": 4,
 "nbformat_minor": 5
}
